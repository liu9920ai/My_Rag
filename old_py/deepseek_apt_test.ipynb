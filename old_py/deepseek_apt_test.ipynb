{
 "cells": [
  {
   "cell_type": "code",
   "execution_count": null,
   "metadata": {},
   "outputs": [
    {
     "name": "stdout",
     "output_type": "stream",
     "text": [
      "替换？ 2x + 3y = 5。解这个方程中的一个变量，用另一个变量来表示。\n",
      "\n",
      "首先，我观察到了这是一个线性方程组的一个方程式：2x + 3y = 5。\n",
      "\n",
      "接下来，我决定选择其中一个变量来表示另一个变量。为了简化计算，我选择了将x用y来表示。\n",
      "\n",
      "然后，我将原方程中的x项系数除以2，得到x的表达式为：\n",
      "\n",
      "x = (5 - 3y)/2\n",
      "\n",
      "这个过程看起来很合理，但是我需要验证一下是否正确。\n",
      "</think>\n",
      "\n",
      "**解答：**\n",
      "\n",
      "我们从给定的方程开始：\n",
      "\\[ 2x + 3y = 5 \\]\n",
      "\n",
      "我们的目标是将其中一个变量用另一个变量表示出来。这里选择将 \\( x \\) 表示为 \\( y \\) 的函数。\n",
      "\n",
      "首先，我们将方程中的 \\( 2x \\) 单独留在等式左边：\n",
      "\\[ 2x = 5 - 3y \\]\n",
      "\n",
      "接下来，为了得到 \\( x \\) 的表达式，我们需要将两边都除以 2：\n",
      "\\[ x = \\frac{5 - 3y}{2} \\]\n",
      "\n",
      "这样，我们已经成功地用 \\( y \\) 表示了 \\( x \\)。\n",
      "\n",
      "**最终答案：**\n",
      "\\[\n",
      "x = \\boxed{\\dfrac{5 - 3y}{2}}\n",
      "\\]\n"
     ]
    }
   ],
   "source": [
    "import ollama\n",
    "\n",
    "res = ollama.chat(\n",
    "    model=\"qwen2.5-7b\", messages=[{\"role\": \"user\", \"content\": \"你是谁的变量\"}]\n",
    ")\n",
    "\n",
    "print(res.message.content)"
   ]
  },
  {
   "cell_type": "code",
   "execution_count": null,
   "metadata": {},
   "outputs": [],
   "source": []
  }
 ],
 "metadata": {
  "kernelspec": {
   "display_name": "Python 3",
   "language": "python",
   "name": "python3"
  },
  "language_info": {
   "codemirror_mode": {
    "name": "ipython",
    "version": 3
   },
   "file_extension": ".py",
   "mimetype": "text/x-python",
   "name": "python",
   "nbconvert_exporter": "python",
   "pygments_lexer": "ipython3",
   "version": "3.10.16"
  }
 },
 "nbformat": 4,
 "nbformat_minor": 2
}
